{
 "cells": [
  {
   "cell_type": "markdown",
   "metadata": {},
   "source": [
    "# Scraping News About the War in Ukraine - DR\n",
    "In this notebook I'm analyzing data from the Danish news media `DR`.\n",
    "The data is gathered using a `scrapy` webscraper I have written which can be found in `scrapers` in the `src` folder of this project."
   ]
  },
  {
   "cell_type": "code",
   "execution_count": 1,
   "metadata": {},
   "outputs": [],
   "source": [
    "import sys\n",
    "sys.path.append('..')\n",
    "\n",
    "from src.scrapers.dr import DRSpider\n",
    "from src.scrapers.run import run_scraper"
   ]
  },
  {
   "cell_type": "markdown",
   "metadata": {},
   "source": [
    "## Scarping Titles from DR War in Ukraine"
   ]
  },
  {
   "cell_type": "code",
   "execution_count": 5,
   "metadata": {},
   "outputs": [
    {
     "ename": "ReactorNotRestartable",
     "evalue": "",
     "output_type": "error",
     "traceback": [
      "\u001b[0;31m---------------------------------------------------------------------------\u001b[0m",
      "\u001b[0;31mReactorNotRestartable\u001b[0m                     Traceback (most recent call last)",
      "\u001b[1;32m/workspaces/BiCTi/notebooks/dr_scraping.ipynb Cell 4'\u001b[0m in \u001b[0;36m<cell line: 1>\u001b[0;34m()\u001b[0m\n\u001b[0;32m----> <a href='vscode-notebook-cell://dev-container%2B2f55736572732f77696c6c69616d6d6172737472616e642f7072697661742f4269435469/workspaces/BiCTi/notebooks/dr_scraping.ipynb#ch0000006vscode-remote?line=0'>1</a>\u001b[0m result \u001b[39m=\u001b[39m run_scraper(DRSpider)\n",
      "File \u001b[0;32m/workspaces/BiCTi/notebooks/../src/scrapers/run.py:12\u001b[0m, in \u001b[0;36mrun_scraper\u001b[0;34m(scraper)\u001b[0m\n\u001b[1;32m     <a href='file:///workspaces/BiCTi/notebooks/../src/scrapers/run.py?line=9'>10</a>\u001b[0m d \u001b[39m=\u001b[39m runner\u001b[39m.\u001b[39mcrawl(scraper)\n\u001b[1;32m     <a href='file:///workspaces/BiCTi/notebooks/../src/scrapers/run.py?line=10'>11</a>\u001b[0m d\u001b[39m.\u001b[39maddBoth(\u001b[39mlambda\u001b[39;00m _: reactor\u001b[39m.\u001b[39mstop())\n\u001b[0;32m---> <a href='file:///workspaces/BiCTi/notebooks/../src/scrapers/run.py?line=11'>12</a>\u001b[0m \u001b[39mreturn\u001b[39;00m reactor\u001b[39m.\u001b[39;49mrun()\n",
      "File \u001b[0;32m/opt/conda/envs/bicti/lib/python3.9/site-packages/twisted/internet/base.py:1314\u001b[0m, in \u001b[0;36m_SignalReactorMixin.run\u001b[0;34m(self, installSignalHandlers)\u001b[0m\n\u001b[1;32m   <a href='file:///opt/conda/envs/bicti/lib/python3.9/site-packages/twisted/internet/base.py?line=1312'>1313</a>\u001b[0m \u001b[39mdef\u001b[39;00m \u001b[39mrun\u001b[39m(\u001b[39mself\u001b[39m, installSignalHandlers: \u001b[39mbool\u001b[39m \u001b[39m=\u001b[39m \u001b[39mTrue\u001b[39;00m) \u001b[39m-\u001b[39m\u001b[39m>\u001b[39m \u001b[39mNone\u001b[39;00m:\n\u001b[0;32m-> <a href='file:///opt/conda/envs/bicti/lib/python3.9/site-packages/twisted/internet/base.py?line=1313'>1314</a>\u001b[0m     \u001b[39mself\u001b[39;49m\u001b[39m.\u001b[39;49mstartRunning(installSignalHandlers\u001b[39m=\u001b[39;49minstallSignalHandlers)\n\u001b[1;32m   <a href='file:///opt/conda/envs/bicti/lib/python3.9/site-packages/twisted/internet/base.py?line=1314'>1315</a>\u001b[0m     \u001b[39mself\u001b[39m\u001b[39m.\u001b[39mmainLoop()\n",
      "File \u001b[0;32m/opt/conda/envs/bicti/lib/python3.9/site-packages/twisted/internet/base.py:1296\u001b[0m, in \u001b[0;36m_SignalReactorMixin.startRunning\u001b[0;34m(self, installSignalHandlers)\u001b[0m\n\u001b[1;32m   <a href='file:///opt/conda/envs/bicti/lib/python3.9/site-packages/twisted/internet/base.py?line=1286'>1287</a>\u001b[0m \u001b[39m\"\"\"\u001b[39;00m\n\u001b[1;32m   <a href='file:///opt/conda/envs/bicti/lib/python3.9/site-packages/twisted/internet/base.py?line=1287'>1288</a>\u001b[0m \u001b[39mExtend the base implementation in order to remember whether signal\u001b[39;00m\n\u001b[1;32m   <a href='file:///opt/conda/envs/bicti/lib/python3.9/site-packages/twisted/internet/base.py?line=1288'>1289</a>\u001b[0m \u001b[39mhandlers should be installed later.\u001b[39;00m\n\u001b[0;32m   (...)\u001b[0m\n\u001b[1;32m   <a href='file:///opt/conda/envs/bicti/lib/python3.9/site-packages/twisted/internet/base.py?line=1292'>1293</a>\u001b[0m \u001b[39m    installed during startup.\u001b[39;00m\n\u001b[1;32m   <a href='file:///opt/conda/envs/bicti/lib/python3.9/site-packages/twisted/internet/base.py?line=1293'>1294</a>\u001b[0m \u001b[39m\"\"\"\u001b[39;00m\n\u001b[1;32m   <a href='file:///opt/conda/envs/bicti/lib/python3.9/site-packages/twisted/internet/base.py?line=1294'>1295</a>\u001b[0m \u001b[39mself\u001b[39m\u001b[39m.\u001b[39m_installSignalHandlers \u001b[39m=\u001b[39m installSignalHandlers\n\u001b[0;32m-> <a href='file:///opt/conda/envs/bicti/lib/python3.9/site-packages/twisted/internet/base.py?line=1295'>1296</a>\u001b[0m ReactorBase\u001b[39m.\u001b[39;49mstartRunning(cast(ReactorBase, \u001b[39mself\u001b[39;49m))\n",
      "File \u001b[0;32m/opt/conda/envs/bicti/lib/python3.9/site-packages/twisted/internet/base.py:840\u001b[0m, in \u001b[0;36mReactorBase.startRunning\u001b[0;34m(self)\u001b[0m\n\u001b[1;32m    <a href='file:///opt/conda/envs/bicti/lib/python3.9/site-packages/twisted/internet/base.py?line=837'>838</a>\u001b[0m     \u001b[39mraise\u001b[39;00m error\u001b[39m.\u001b[39mReactorAlreadyRunning()\n\u001b[1;32m    <a href='file:///opt/conda/envs/bicti/lib/python3.9/site-packages/twisted/internet/base.py?line=838'>839</a>\u001b[0m \u001b[39mif\u001b[39;00m \u001b[39mself\u001b[39m\u001b[39m.\u001b[39m_startedBefore:\n\u001b[0;32m--> <a href='file:///opt/conda/envs/bicti/lib/python3.9/site-packages/twisted/internet/base.py?line=839'>840</a>\u001b[0m     \u001b[39mraise\u001b[39;00m error\u001b[39m.\u001b[39mReactorNotRestartable()\n\u001b[1;32m    <a href='file:///opt/conda/envs/bicti/lib/python3.9/site-packages/twisted/internet/base.py?line=840'>841</a>\u001b[0m \u001b[39mself\u001b[39m\u001b[39m.\u001b[39m_started \u001b[39m=\u001b[39m \u001b[39mTrue\u001b[39;00m\n\u001b[1;32m    <a href='file:///opt/conda/envs/bicti/lib/python3.9/site-packages/twisted/internet/base.py?line=841'>842</a>\u001b[0m \u001b[39mself\u001b[39m\u001b[39m.\u001b[39m_stopped \u001b[39m=\u001b[39m \u001b[39mFalse\u001b[39;00m\n",
      "\u001b[0;31mReactorNotRestartable\u001b[0m: "
     ]
    }
   ],
   "source": [
    "result = run_scraper(DRSpider)"
   ]
  },
  {
   "cell_type": "code",
   "execution_count": 4,
   "metadata": {},
   "outputs": [],
   "source": [
    "result."
   ]
  },
  {
   "cell_type": "code",
   "execution_count": null,
   "metadata": {},
   "outputs": [],
   "source": []
  }
 ],
 "metadata": {
  "interpreter": {
   "hash": "949777d72b0d2535278d3dc13498b2535136f6dfe0678499012e853ee9abcab1"
  },
  "kernelspec": {
   "display_name": "Python 3.9.11 64-bit",
   "language": "python",
   "name": "python3"
  },
  "language_info": {
   "codemirror_mode": {
    "name": "ipython",
    "version": 3
   },
   "file_extension": ".py",
   "mimetype": "text/x-python",
   "name": "python",
   "nbconvert_exporter": "python",
   "pygments_lexer": "ipython3",
   "version": "3.9.7"
  },
  "orig_nbformat": 4
 },
 "nbformat": 4,
 "nbformat_minor": 2
}
